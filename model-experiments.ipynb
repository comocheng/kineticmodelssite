{
 "cells": [
  {
   "cell_type": "code",
   "execution_count": 55,
   "metadata": {},
   "outputs": [],
   "source": [
    "from typing import Sequence, FrozenSet, Any\n",
    "from pydantic import confrozenset\n",
    "from pydantic.dataclasses import dataclass\n",
    "from pydantic import BaseModel\n",
    "from apischema import serialize, deserialize\n",
    "from frozendict import frozendict\n",
    "import json"
   ]
  },
  {
   "cell_type": "code",
   "execution_count": 56,
   "metadata": {},
   "outputs": [],
   "source": [
    "class FrozenSetEncoder(json.JSONEncoder):\n",
    "    def default(self, o: Any) -> Any:\n",
    "        if isinstance(o, FrozenSet):\n",
    "            return list(o)\n",
    "        return json.JSONEncoder.default(self, o)"
   ]
  },
  {
   "cell_type": "code",
   "execution_count": 58,
   "metadata": {},
   "outputs": [],
   "source": [
    "class Model(BaseModel):\n",
    "    def dict(self, *args, **kwargs):\n",
    "        d = super().dict(*args, **kwargs)\n",
    "        return frozendict(**d)\n",
    "        \n",
    "    class Config:\n",
    "        frozen = True"
   ]
  },
  {
   "cell_type": "code",
   "execution_count": 59,
   "metadata": {},
   "outputs": [],
   "source": [
    "# @dataclass(frozen=True, config=Config)\n",
    "class Bar(Model, frozen=True):\n",
    "    x: int"
   ]
  },
  {
   "cell_type": "code",
   "execution_count": 60,
   "metadata": {},
   "outputs": [],
   "source": [
    "# @dataclass(frozen=True, config=Config)\n",
    "class Foo(Model, frozen=True):\n",
    "    bars: confrozenset(Bar)"
   ]
  },
  {
   "cell_type": "code",
   "execution_count": 61,
   "metadata": {},
   "outputs": [],
   "source": [
    "foo1 = Foo(bars=[Bar(x=1), Bar(x=2)])\n",
    "foo2 = Foo(bars=[Bar(x=2), Bar(x=1), Bar(x=1)])"
   ]
  },
  {
   "cell_type": "code",
   "execution_count": 62,
   "metadata": {},
   "outputs": [
    {
     "data": {
      "text/plain": [
       "frozendict.frozendict({'bars': frozenset({frozendict.frozendict({'x': 1}), frozendict.frozendict({'x': 2})})})"
      ]
     },
     "execution_count": 62,
     "metadata": {},
     "output_type": "execute_result"
    }
   ],
   "source": [
    "foo1.dict()"
   ]
  },
  {
   "cell_type": "code",
   "execution_count": 63,
   "metadata": {},
   "outputs": [
    {
     "data": {
      "text/plain": [
       "True"
      ]
     },
     "execution_count": 63,
     "metadata": {},
     "output_type": "execute_result"
    }
   ],
   "source": [
    "foo1 == foo2"
   ]
  },
  {
   "cell_type": "code",
   "execution_count": 64,
   "metadata": {},
   "outputs": [
    {
     "data": {
      "text/plain": [
       "{'bars': [{'x': 1}, {'x': 2}]}"
      ]
     },
     "execution_count": 64,
     "metadata": {},
     "output_type": "execute_result"
    }
   ],
   "source": [
    "from fastapi.encoders import jsonable_encoder\n",
    "jsonable_encoder(foo1)"
   ]
  }
 ],
 "metadata": {
  "kernelspec": {
   "display_name": "Python 3.10.4 ('kineticmodelssite-Q7qnX80J-py3.10')",
   "language": "python",
   "name": "python3"
  },
  "language_info": {
   "codemirror_mode": {
    "name": "ipython",
    "version": 3
   },
   "file_extension": ".py",
   "mimetype": "text/x-python",
   "name": "python",
   "nbconvert_exporter": "python",
   "pygments_lexer": "ipython3",
   "version": "3.10.4"
  },
  "orig_nbformat": 4,
  "vscode": {
   "interpreter": {
    "hash": "9c091d11918d54ae202620ec2625fd2bf4d96901610c534a1dfe45ac8bd1d080"
   }
  }
 },
 "nbformat": 4,
 "nbformat_minor": 2
}
